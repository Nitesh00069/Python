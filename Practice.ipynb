{
 "cells": [
  {
   "cell_type": "code",
   "execution_count": 2,
   "id": "2257ad15-f5af-4ced-a21d-16cc2dff4df2",
   "metadata": {},
   "outputs": [
    {
     "name": "stdout",
     "output_type": "stream",
     "text": [
      "Nitesh Darpe\n"
     ]
    }
   ],
   "source": [
    "# print\n",
    "print (\"Nitesh Darpe\")"
   ]
  },
  {
   "cell_type": "code",
   "execution_count": 3,
   "id": "2b048cd7-6a19-47f4-9fbe-2e3da8e5c8e0",
   "metadata": {},
   "outputs": [
    {
     "name": "stdout",
     "output_type": "stream",
     "text": [
      "This is number 15\n"
     ]
    }
   ],
   "source": [
    "#Variable\n",
    "number = 15\n",
    "print('This is number' , number)"
   ]
  },
  {
   "cell_type": "code",
   "execution_count": 4,
   "id": "d8e0e7fa-4381-44ad-8cf9-515d4d703bad",
   "metadata": {},
   "outputs": [
    {
     "name": "stdin",
     "output_type": "stream",
     "text": [
      "Enter Your Name  10\n",
      "Enter Your Age  18\n",
      "Enter Your height  45\n"
     ]
    },
    {
     "name": "stdout",
     "output_type": "stream",
     "text": [
      "My name is   10\n",
      "My age is   18\n",
      "height is  45\n"
     ]
    }
   ],
   "source": [
    "# input\n",
    "name = input('Enter Your Name ')\n",
    "age = input('Enter Your Age ')\n",
    "height = input('Enter Your height ')\n",
    "\n",
    "print(\"My name is  \",name)\n",
    "print(\"My age is  \",age)\n",
    "print(\"height is \",height)"
   ]
  },
  {
   "cell_type": "code",
   "execution_count": 6,
   "id": "15147171-82b6-4797-b3e4-9ae9b86815b9",
   "metadata": {},
   "outputs": [
    {
     "name": "stdin",
     "output_type": "stream",
     "text": [
      "Enter Your Name  Nitesh\n",
      "Enter Your Age  56\n",
      "Enter Your height  5.4\n"
     ]
    },
    {
     "name": "stdout",
     "output_type": "stream",
     "text": [
      "My name is   Nitesh\n",
      "My age is   56\n",
      "height is  5.4\n"
     ]
    }
   ],
   "source": [
    "name = str(input('Enter Your Name '))\n",
    "age = int(input('Enter Your Age '))\n",
    "height = float(input('Enter Your height '))\n",
    "\n",
    "print(\"My name is  \",name)\n",
    "print(\"My age is  \",age)\n",
    "print(\"height is \",height)"
   ]
  },
  {
   "cell_type": "code",
   "execution_count": 7,
   "id": "5e04c437-3295-479c-90ea-2060b1ac414e",
   "metadata": {},
   "outputs": [
    {
     "name": "stdin",
     "output_type": "stream",
     "text": [
      "enter start number  2\n",
      "enter end number  21\n"
     ]
    },
    {
     "name": "stdout",
     "output_type": "stream",
     "text": [
      "2\n",
      "3\n",
      "4\n",
      "5\n",
      "6\n",
      "7\n",
      "8\n",
      "9\n",
      "10\n",
      "11\n",
      "12\n",
      "13\n",
      "14\n",
      "15\n",
      "16\n",
      "17\n",
      "18\n",
      "19\n",
      "20\n",
      "21\n"
     ]
    }
   ],
   "source": [
    "# take user input\n",
    "start = int(input('enter start number '))\n",
    "end = int(input('enter end number '))\n",
    "\n",
    "for i in range(start,end+1):\n",
    "    print(i)"
   ]
  },
  {
   "cell_type": "code",
   "execution_count": 8,
   "id": "99822fc6-2509-4188-93d4-62c4b5487dbc",
   "metadata": {},
   "outputs": [
    {
     "name": "stdout",
     "output_type": "stream",
     "text": [
      "1 2 3 4 5 6 7 8 9 10 11 12 13 14 15 16 17 18 19 20 "
     ]
    }
   ],
   "source": [
    "\n",
    "#end=' '\n",
    "\n",
    "for i in range(1,21):\n",
    "    print(i,end=' ')"
   ]
  },
  {
   "cell_type": "code",
   "execution_count": 1,
   "id": "d6d60d76-ce26-40c6-9bee-efaba300efab",
   "metadata": {},
   "outputs": [
    {
     "name": "stdout",
     "output_type": "stream",
     "text": [
      "Requirement already satisfied: pandas in c:\\users\\programming\\anaconda3\\lib\\site-packages (2.2.2)\n",
      "Requirement already satisfied: numpy>=1.26.0 in c:\\users\\programming\\anaconda3\\lib\\site-packages (from pandas) (1.26.4)\n",
      "Requirement already satisfied: python-dateutil>=2.8.2 in c:\\users\\programming\\anaconda3\\lib\\site-packages (from pandas) (2.9.0.post0)\n",
      "Requirement already satisfied: pytz>=2020.1 in c:\\users\\programming\\anaconda3\\lib\\site-packages (from pandas) (2024.1)\n",
      "Requirement already satisfied: tzdata>=2022.7 in c:\\users\\programming\\anaconda3\\lib\\site-packages (from pandas) (2023.3)\n",
      "Requirement already satisfied: six>=1.5 in c:\\users\\programming\\anaconda3\\lib\\site-packages (from python-dateutil>=2.8.2->pandas) (1.16.0)\n",
      "Note: you may need to restart the kernel to use updated packages.\n"
     ]
    }
   ],
   "source": [
    "\n",
    "# pandas in python\n",
    "# https://pandas.pydata.org/\n",
    "\n",
    "# install pandas \n",
    "%pip install pandas"
   ]
  }
 ],
 "metadata": {
  "kernelspec": {
   "display_name": "Python 3 (ipykernel)",
   "language": "python",
   "name": "python3"
  },
  "language_info": {
   "codemirror_mode": {
    "name": "ipython",
    "version": 3
   },
   "file_extension": ".py",
   "mimetype": "text/x-python",
   "name": "python",
   "nbconvert_exporter": "python",
   "pygments_lexer": "ipython3",
   "version": "3.12.7"
  }
 },
 "nbformat": 4,
 "nbformat_minor": 5
}
